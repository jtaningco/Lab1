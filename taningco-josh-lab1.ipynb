{
 "cells": [
  {
   "cell_type": "markdown",
   "metadata": {},
   "source": [
    "**184864** Taningco 3 BS ITE\n"
   ]
  },
  {
   "cell_type": "code",
   "execution_count": 4,
   "metadata": {},
   "outputs": [
    {
     "name": "stdin",
     "output_type": "stream",
     "text": [
      "Enter the amount in US Dollars:  20\n"
     ]
    },
    {
     "name": "stdout",
     "output_type": "stream",
     "text": [
      "20 US dollar(s) = 1000 Philippine Pesos.\n"
     ]
    }
   ],
   "source": [
    "def dollars_to_pesos(x):\n",
    "    y = x * 50\n",
    "    print(str(x) + \" US dollar(s) = \" + str(y) + \" Philippine Pesos.\")\n",
    "    \n",
    "x = int(input(\"Enter the amount in US Dollars: \"))\n",
    "dollars_to_pesos(x)"
   ]
  },
  {
   "cell_type": "code",
   "execution_count": 10,
   "metadata": {},
   "outputs": [
    {
     "name": "stdin",
     "output_type": "stream",
     "text": [
      " 128\n",
      " 8\n"
     ]
    },
    {
     "name": "stdout",
     "output_type": "stream",
     "text": [
      "136\n",
      "120\n",
      "1024\n",
      "16\n",
      "0\n"
     ]
    }
   ],
   "source": [
    "a = int(input())\n",
    "b = int(input())\n",
    "print(a+b)\n",
    "print(a-b)\n",
    "print(a*b)\n",
    "print(int(a/b))\n",
    "print(a%b)"
   ]
  },
  {
   "cell_type": "code",
   "execution_count": 12,
   "metadata": {},
   "outputs": [
    {
     "name": "stdin",
     "output_type": "stream",
     "text": [
      "Enter kg:  67\n",
      "Enter cm:  178\n"
     ]
    },
    {
     "data": {
      "text/plain": [
       "21.146319909102385"
      ]
     },
     "execution_count": 12,
     "metadata": {},
     "output_type": "execute_result"
    }
   ],
   "source": [
    "def convert_cm_to_m(a):\n",
    "    return a / 100\n",
    "\n",
    "def compute_bmi(a,b):\n",
    "    return a / b**2\n",
    "\n",
    "x = int(input('Enter kg: '))\n",
    "y = int(input('Enter cm: '))\n",
    "z = convert_cm_to_m(y)\n",
    "compute_bmi(x,z)"
   ]
  },
  {
   "cell_type": "code",
   "execution_count": null,
   "metadata": {},
   "outputs": [],
   "source": []
  }
 ],
 "metadata": {
  "kernelspec": {
   "display_name": "Python 3",
   "language": "python",
   "name": "python3"
  },
  "language_info": {
   "codemirror_mode": {
    "name": "ipython",
    "version": 3
   },
   "file_extension": ".py",
   "mimetype": "text/x-python",
   "name": "python",
   "nbconvert_exporter": "python",
   "pygments_lexer": "ipython3",
   "version": "3.8.5"
  }
 },
 "nbformat": 4,
 "nbformat_minor": 4
}
